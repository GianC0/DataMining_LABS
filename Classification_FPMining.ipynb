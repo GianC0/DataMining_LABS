{
 "cells": [
  {
   "cell_type": "markdown",
   "id": "5ae88df7",
   "metadata": {},
   "source": [
    "# DATA MINING PROJECT 2:  CLASSIFICATION and FP-MINING"
   ]
  },
  {
   "cell_type": "markdown",
   "id": "24a5c9fc",
   "metadata": {},
   "source": [
    "I'm now using the Social Network Ad dataset taken from the Kaggle website:"
   ]
  },
  {
   "cell_type": "markdown",
   "id": "d36102da",
   "metadata": {},
   "source": [
    "https://www.kaggle.com/rakeshrau/social-network-ads"
   ]
  },
  {
   "cell_type": "markdown",
   "id": "e4694456",
   "metadata": {},
   "source": [
    "The dataset contains the details about salary, age and gender of users users in a social networking website. This data is useful for finding whether the user buys a product by clicking the ad appearing on his phone or not."
   ]
  },
  {
   "cell_type": "markdown",
   "id": "bade67a0",
   "metadata": {},
   "source": [
    "## CLASSIFICATION"
   ]
  },
  {
   "cell_type": "markdown",
   "id": "62b78013",
   "metadata": {},
   "source": [
    "For the task I study and compare 2 different classifiers:\n",
    "- Decision Tree\n",
    "- Random Forest\n",
    "\n",
    "Now let's start with some imports"
   ]
  },
  {
   "cell_type": "code",
   "execution_count": 2,
   "id": "e6f7e784",
   "metadata": {},
   "outputs": [],
   "source": [
    "import pandas as pd\n",
    "import numpy as np\n",
    "from sklearn.model_selection import train_test_split\n",
    "from sklearn.preprocessing import StandardScaler\n",
    "from sklearn.metrics import confusion_matrix\n",
    "from sklearn.metrics import accuracy_score\n",
    "from mlxtend.frequent_patterns import fpgrowth\n",
    "from scipy.stats import chi2_contingency \n",
    "import seaborn as sns\n",
    "import matplotlib.pyplot as plt\n",
    "\n",
    "from sklearn.ensemble import RandomForestClassifier  #RANDOM FOREST\n",
    "\n",
    "from sklearn.tree import DecisionTreeClassifier  # DECISION TREE"
   ]
  },
  {
   "cell_type": "markdown",
   "id": "19a230b6",
   "metadata": {},
   "source": [
    "I now load the data:"
   ]
  },
  {
   "cell_type": "code",
   "execution_count": 3,
   "id": "68d1527b",
   "metadata": {},
   "outputs": [
    {
     "name": "stdout",
     "output_type": "stream",
     "text": [
      "400\n"
     ]
    },
    {
     "data": {
      "text/html": [
       "<div>\n",
       "<style scoped>\n",
       "    .dataframe tbody tr th:only-of-type {\n",
       "        vertical-align: middle;\n",
       "    }\n",
       "\n",
       "    .dataframe tbody tr th {\n",
       "        vertical-align: top;\n",
       "    }\n",
       "\n",
       "    .dataframe thead th {\n",
       "        text-align: right;\n",
       "    }\n",
       "</style>\n",
       "<table border=\"1\" class=\"dataframe\">\n",
       "  <thead>\n",
       "    <tr style=\"text-align: right;\">\n",
       "      <th></th>\n",
       "      <th>User ID</th>\n",
       "      <th>Gender</th>\n",
       "      <th>Age</th>\n",
       "      <th>EstimatedSalary</th>\n",
       "      <th>Purchased</th>\n",
       "    </tr>\n",
       "  </thead>\n",
       "  <tbody>\n",
       "    <tr>\n",
       "      <th>0</th>\n",
       "      <td>15624510</td>\n",
       "      <td>Male</td>\n",
       "      <td>19</td>\n",
       "      <td>19000</td>\n",
       "      <td>0</td>\n",
       "    </tr>\n",
       "    <tr>\n",
       "      <th>1</th>\n",
       "      <td>15810944</td>\n",
       "      <td>Male</td>\n",
       "      <td>35</td>\n",
       "      <td>20000</td>\n",
       "      <td>0</td>\n",
       "    </tr>\n",
       "    <tr>\n",
       "      <th>2</th>\n",
       "      <td>15668575</td>\n",
       "      <td>Female</td>\n",
       "      <td>26</td>\n",
       "      <td>43000</td>\n",
       "      <td>0</td>\n",
       "    </tr>\n",
       "    <tr>\n",
       "      <th>3</th>\n",
       "      <td>15603246</td>\n",
       "      <td>Female</td>\n",
       "      <td>27</td>\n",
       "      <td>57000</td>\n",
       "      <td>0</td>\n",
       "    </tr>\n",
       "    <tr>\n",
       "      <th>4</th>\n",
       "      <td>15804002</td>\n",
       "      <td>Male</td>\n",
       "      <td>19</td>\n",
       "      <td>76000</td>\n",
       "      <td>0</td>\n",
       "    </tr>\n",
       "  </tbody>\n",
       "</table>\n",
       "</div>"
      ],
      "text/plain": [
       "    User ID  Gender  Age  EstimatedSalary  Purchased\n",
       "0  15624510    Male   19            19000          0\n",
       "1  15810944    Male   35            20000          0\n",
       "2  15668575  Female   26            43000          0\n",
       "3  15603246  Female   27            57000          0\n",
       "4  15804002    Male   19            76000          0"
      ]
     },
     "execution_count": 3,
     "metadata": {},
     "output_type": "execute_result"
    }
   ],
   "source": [
    "ds = pd.read_csv('./Social_Network_Ads.csv')\n",
    "print(ds.shape[0])\n",
    "ds.head()"
   ]
  },
  {
   "cell_type": "markdown",
   "id": "b26e61c0",
   "metadata": {},
   "source": [
    "Generally the datasets on the Kaggle platform are always already cleaned. But I want to be sure, so I check:"
   ]
  },
  {
   "cell_type": "code",
   "execution_count": 3,
   "id": "a9972919",
   "metadata": {},
   "outputs": [
    {
     "data": {
      "text/plain": [
       "User ID            False\n",
       "Gender             False\n",
       "Age                False\n",
       "EstimatedSalary    False\n",
       "Purchased          False\n",
       "dtype: bool"
      ]
     },
     "execution_count": 3,
     "metadata": {},
     "output_type": "execute_result"
    }
   ],
   "source": [
    "ds.isnull().any()"
   ]
  },
  {
   "cell_type": "markdown",
   "id": "a89c04cb",
   "metadata": {},
   "source": [
    "For the purpose, I have to assign dependent and independet variables. Since we will use the classifier to make predictions wheather the user will buy or not the artcle, the 'Purchase' attribute will be the dependent variable. Then, to keep things simpler, I will only consider the 'age' and 'estimatedSalary' as indipendent ones because they are the only interesting numerical ones (apart from the USERID)."
   ]
  },
  {
   "cell_type": "code",
   "execution_count": 4,
   "id": "a3f011df",
   "metadata": {},
   "outputs": [],
   "source": [
    "x = ds.iloc[:,2:-1].values\n",
    "y = ds.iloc[:,-1].values"
   ]
  },
  {
   "cell_type": "markdown",
   "id": "a6b717ed",
   "metadata": {},
   "source": [
    "I now split my dataset into TRAIN and TEST sets. I choose not to evaluate my model because of the scarsity of training data that otherwise would become too small. Furthermore, one good practice is to do some features scaling in order to increase model accuracy. Test size will be 20% of the total training dataset."
   ]
  },
  {
   "cell_type": "code",
   "execution_count": 5,
   "id": "efaaf591",
   "metadata": {},
   "outputs": [],
   "source": [
    "x_train,x_test,y_train,y_test = train_test_split(x,y,test_size = 0.2, random_state = 0)"
   ]
  },
  {
   "cell_type": "markdown",
   "id": "41a8f408",
   "metadata": {},
   "source": [
    "### Decision Tree"
   ]
  },
  {
   "cell_type": "markdown",
   "id": "5cb3008e",
   "metadata": {},
   "source": [
    "For the Decision Tree, I decide to use the Entropy measure to calculate the best split points and to train my classifier. Thanks to the libraries the code is very simplified: I just train the model, study the confusion matrix and then calculate the accuracy."
   ]
  },
  {
   "cell_type": "code",
   "execution_count": 81,
   "id": "3f0209ca",
   "metadata": {},
   "outputs": [
    {
     "name": "stdout",
     "output_type": "stream",
     "text": [
      "confusion matrix:\n",
      " [[53  5]\n",
      " [ 4 18]]\n",
      "accuracy score =  0.8875\n"
     ]
    }
   ],
   "source": [
    "#training model\n",
    "dt = DecisionTreeClassifier(criterion = 'entropy')\n",
    "dt.fit(x_train,y_train)\n",
    "\n",
    "#getting confusion matrix\n",
    "y_pred = dt.predict(x_test)\n",
    "cm = confusion_matrix(y_test,y_pred)\n",
    "print('confusion matrix:\\n',cm)\n",
    "\n",
    "#checking accuracy\n",
    "dta = accuracy_score(y_test,y_pred)\n",
    "print('accuracy score = ',accuracy_score(y_test,y_pred))\n"
   ]
  },
  {
   "cell_type": "markdown",
   "id": "d53d77a2",
   "metadata": {},
   "source": [
    "As we can observe, the result is good but not excellent. This could be due to high tedence for decision tree to overfitted and also very dependent on the training data: that's why we rather use Random Forest in such cases."
   ]
  },
  {
   "cell_type": "markdown",
   "id": "f44f2666",
   "metadata": {},
   "source": [
    "### Random Forest"
   ]
  },
  {
   "cell_type": "markdown",
   "id": "0ccad8ac",
   "metadata": {},
   "source": [
    "For the Random Forest classifier I tried many n_estimators value, and in conclusion the best score was achieved with n_estimator = 11. Also, for consistency, I opted for entropy as classification criterion as I did for the Decision Tree classifier."
   ]
  },
  {
   "cell_type": "code",
   "execution_count": 73,
   "id": "0c27e51f",
   "metadata": {},
   "outputs": [
    {
     "name": "stdout",
     "output_type": "stream",
     "text": [
      "confusion matrix:\n",
      " [[54  4]\n",
      " [ 0 22]]\n",
      "accuracy score =  0.95\n"
     ]
    }
   ],
   "source": [
    "#training model\n",
    "rf = RandomForestClassifier(n_estimators = 11, criterion = 'entropy')\n",
    "rf.fit(x_train,y_train)\n",
    "\n",
    "#getting confusion matrix\n",
    "y_pred = rf.predict(x_test)\n",
    "cm = confusion_matrix(y_test,y_pred)\n",
    "print('confusion matrix:\\n',cm)\n",
    "\n",
    "#checking accuracy\n",
    "rfa = accuracy_score(y_test,y_pred)\n",
    "print('accuracy score = ',accuracy_score(y_test,y_pred))"
   ]
  },
  {
   "cell_type": "markdown",
   "id": "b9722624",
   "metadata": {},
   "source": [
    "As expected, Random Forest is performing much better than the normal Decision Tree: almost 7% increase in accuracy. That's because now we are doing both random-feature selection and boosting for different decision trees."
   ]
  },
  {
   "cell_type": "markdown",
   "id": "c1e03480",
   "metadata": {},
   "source": [
    "## FREQUENT PATTERN MINING"
   ]
  },
  {
   "cell_type": "markdown",
   "id": "4e9706e4",
   "metadata": {},
   "source": [
    "Now I have to apply some changes to my dataset. In particular, since I'm going to use FP-growth as a frequent pattern mining algorithm, I will need all my data to be Boolean."
   ]
  },
  {
   "cell_type": "markdown",
   "id": "390b1dad",
   "metadata": {},
   "source": [
    "### Data Preprocessing"
   ]
  },
  {
   "cell_type": "markdown",
   "id": "b3423be1",
   "metadata": {},
   "source": [
    "I start by scomposing the 'Age' attribute into 3 intervals:\n",
    "- age < 20\n",
    "- 20 <= age <30\n",
    "- age >= 30\n"
   ]
  },
  {
   "cell_type": "code",
   "execution_count": 111,
   "id": "99cc8875",
   "metadata": {},
   "outputs": [
    {
     "data": {
      "text/html": [
       "<div>\n",
       "<style scoped>\n",
       "    .dataframe tbody tr th:only-of-type {\n",
       "        vertical-align: middle;\n",
       "    }\n",
       "\n",
       "    .dataframe tbody tr th {\n",
       "        vertical-align: top;\n",
       "    }\n",
       "\n",
       "    .dataframe thead th {\n",
       "        text-align: right;\n",
       "    }\n",
       "</style>\n",
       "<table border=\"1\" class=\"dataframe\">\n",
       "  <thead>\n",
       "    <tr style=\"text-align: right;\">\n",
       "      <th></th>\n",
       "      <th>Age&lt;20</th>\n",
       "      <th>20&lt;=Age&lt;29</th>\n",
       "      <th>Age&gt;=30</th>\n",
       "      <th>Gender</th>\n",
       "      <th>EstimatedSalary</th>\n",
       "      <th>Purchased</th>\n",
       "    </tr>\n",
       "  </thead>\n",
       "  <tbody>\n",
       "    <tr>\n",
       "      <th>0</th>\n",
       "      <td>True</td>\n",
       "      <td>False</td>\n",
       "      <td>False</td>\n",
       "      <td>Male</td>\n",
       "      <td>19000</td>\n",
       "      <td>0</td>\n",
       "    </tr>\n",
       "    <tr>\n",
       "      <th>1</th>\n",
       "      <td>False</td>\n",
       "      <td>False</td>\n",
       "      <td>True</td>\n",
       "      <td>Male</td>\n",
       "      <td>20000</td>\n",
       "      <td>0</td>\n",
       "    </tr>\n",
       "    <tr>\n",
       "      <th>2</th>\n",
       "      <td>False</td>\n",
       "      <td>True</td>\n",
       "      <td>False</td>\n",
       "      <td>Female</td>\n",
       "      <td>43000</td>\n",
       "      <td>0</td>\n",
       "    </tr>\n",
       "    <tr>\n",
       "      <th>3</th>\n",
       "      <td>False</td>\n",
       "      <td>True</td>\n",
       "      <td>False</td>\n",
       "      <td>Female</td>\n",
       "      <td>57000</td>\n",
       "      <td>0</td>\n",
       "    </tr>\n",
       "    <tr>\n",
       "      <th>4</th>\n",
       "      <td>True</td>\n",
       "      <td>False</td>\n",
       "      <td>False</td>\n",
       "      <td>Male</td>\n",
       "      <td>76000</td>\n",
       "      <td>0</td>\n",
       "    </tr>\n",
       "  </tbody>\n",
       "</table>\n",
       "</div>"
      ],
      "text/plain": [
       "   Age<20  20<=Age<29  Age>=30  Gender  EstimatedSalary  Purchased\n",
       "0    True       False    False    Male            19000          0\n",
       "1   False       False     True    Male            20000          0\n",
       "2   False        True    False  Female            43000          0\n",
       "3   False        True    False  Female            57000          0\n",
       "4    True       False    False    Male            76000          0"
      ]
     },
     "execution_count": 111,
     "metadata": {},
     "output_type": "execute_result"
    }
   ],
   "source": [
    "a = (ds['Age']<20)\n",
    "b = (ds['Age']<29) ^ (ds['Age']<=20)\n",
    "c = (ds['Age']>=30)\n",
    "\n",
    "data = ds.drop(['User ID','Age'],axis=1)\n",
    "data.insert(0,'Age<20',a)\n",
    "data.insert(1,'20<=Age<29',b)\n",
    "data.insert(2,'Age>=30',c)\n",
    "data.head()"
   ]
  },
  {
   "cell_type": "markdown",
   "id": "fd75c587",
   "metadata": {},
   "source": [
    "I'm now doing the same with the 'EstimatedSalary' attribute, with those ranges:\n",
    "- salary < 40k\n",
    "- 40k <= salary < 80k\n",
    "- salary >= 80k\n"
   ]
  },
  {
   "cell_type": "code",
   "execution_count": 112,
   "id": "fd26f5ea",
   "metadata": {},
   "outputs": [
    {
     "data": {
      "text/html": [
       "<div>\n",
       "<style scoped>\n",
       "    .dataframe tbody tr th:only-of-type {\n",
       "        vertical-align: middle;\n",
       "    }\n",
       "\n",
       "    .dataframe tbody tr th {\n",
       "        vertical-align: top;\n",
       "    }\n",
       "\n",
       "    .dataframe thead th {\n",
       "        text-align: right;\n",
       "    }\n",
       "</style>\n",
       "<table border=\"1\" class=\"dataframe\">\n",
       "  <thead>\n",
       "    <tr style=\"text-align: right;\">\n",
       "      <th></th>\n",
       "      <th>Age&lt;20</th>\n",
       "      <th>20&lt;=Age&lt;29</th>\n",
       "      <th>Age&gt;=30</th>\n",
       "      <th>salary&lt;40k</th>\n",
       "      <th>40k&lt;=salary&lt;80k</th>\n",
       "      <th>salary&gt;80k</th>\n",
       "      <th>Gender</th>\n",
       "      <th>Purchased</th>\n",
       "    </tr>\n",
       "  </thead>\n",
       "  <tbody>\n",
       "    <tr>\n",
       "      <th>0</th>\n",
       "      <td>True</td>\n",
       "      <td>False</td>\n",
       "      <td>False</td>\n",
       "      <td>True</td>\n",
       "      <td>False</td>\n",
       "      <td>False</td>\n",
       "      <td>Male</td>\n",
       "      <td>0</td>\n",
       "    </tr>\n",
       "    <tr>\n",
       "      <th>1</th>\n",
       "      <td>False</td>\n",
       "      <td>False</td>\n",
       "      <td>True</td>\n",
       "      <td>True</td>\n",
       "      <td>False</td>\n",
       "      <td>False</td>\n",
       "      <td>Male</td>\n",
       "      <td>0</td>\n",
       "    </tr>\n",
       "    <tr>\n",
       "      <th>2</th>\n",
       "      <td>False</td>\n",
       "      <td>True</td>\n",
       "      <td>False</td>\n",
       "      <td>False</td>\n",
       "      <td>True</td>\n",
       "      <td>False</td>\n",
       "      <td>Female</td>\n",
       "      <td>0</td>\n",
       "    </tr>\n",
       "    <tr>\n",
       "      <th>3</th>\n",
       "      <td>False</td>\n",
       "      <td>True</td>\n",
       "      <td>False</td>\n",
       "      <td>False</td>\n",
       "      <td>True</td>\n",
       "      <td>False</td>\n",
       "      <td>Female</td>\n",
       "      <td>0</td>\n",
       "    </tr>\n",
       "    <tr>\n",
       "      <th>4</th>\n",
       "      <td>True</td>\n",
       "      <td>False</td>\n",
       "      <td>False</td>\n",
       "      <td>False</td>\n",
       "      <td>True</td>\n",
       "      <td>False</td>\n",
       "      <td>Male</td>\n",
       "      <td>0</td>\n",
       "    </tr>\n",
       "  </tbody>\n",
       "</table>\n",
       "</div>"
      ],
      "text/plain": [
       "   Age<20  20<=Age<29  Age>=30  salary<40k  40k<=salary<80k  salary>80k  \\\n",
       "0    True       False    False        True            False       False   \n",
       "1   False       False     True        True            False       False   \n",
       "2   False        True    False       False             True       False   \n",
       "3   False        True    False       False             True       False   \n",
       "4    True       False    False       False             True       False   \n",
       "\n",
       "   Gender  Purchased  \n",
       "0    Male          0  \n",
       "1    Male          0  \n",
       "2  Female          0  \n",
       "3  Female          0  \n",
       "4    Male          0  "
      ]
     },
     "execution_count": 112,
     "metadata": {},
     "output_type": "execute_result"
    }
   ],
   "source": [
    "a = (ds['EstimatedSalary']<40000)\n",
    "b = (ds['EstimatedSalary']<80000) ^ (ds['EstimatedSalary']<40000)\n",
    "c = (ds['EstimatedSalary']>=80000)\n",
    "\n",
    "data = data.drop('EstimatedSalary',axis=1)\n",
    "data.insert(3,'salary<40k',a)\n",
    "data.insert(4,'40k<=salary<80k',b)\n",
    "data.insert(5,'salary>80k',c)\n",
    "data.head()"
   ]
  },
  {
   "cell_type": "markdown",
   "id": "1741fb37",
   "metadata": {},
   "source": [
    "In the end, the same applies to the 'Gender' attribute. This time we have a binary attribute:"
   ]
  },
  {
   "cell_type": "code",
   "execution_count": 113,
   "id": "9913db51",
   "metadata": {},
   "outputs": [
    {
     "data": {
      "text/html": [
       "<div>\n",
       "<style scoped>\n",
       "    .dataframe tbody tr th:only-of-type {\n",
       "        vertical-align: middle;\n",
       "    }\n",
       "\n",
       "    .dataframe tbody tr th {\n",
       "        vertical-align: top;\n",
       "    }\n",
       "\n",
       "    .dataframe thead th {\n",
       "        text-align: right;\n",
       "    }\n",
       "</style>\n",
       "<table border=\"1\" class=\"dataframe\">\n",
       "  <thead>\n",
       "    <tr style=\"text-align: right;\">\n",
       "      <th></th>\n",
       "      <th>Age&lt;20</th>\n",
       "      <th>20&lt;=Age&lt;29</th>\n",
       "      <th>Age&gt;=30</th>\n",
       "      <th>salary&lt;40k</th>\n",
       "      <th>40k&lt;=salary&lt;80k</th>\n",
       "      <th>salary&gt;80k</th>\n",
       "      <th>Male</th>\n",
       "      <th>Purchased</th>\n",
       "    </tr>\n",
       "  </thead>\n",
       "  <tbody>\n",
       "    <tr>\n",
       "      <th>0</th>\n",
       "      <td>True</td>\n",
       "      <td>False</td>\n",
       "      <td>False</td>\n",
       "      <td>True</td>\n",
       "      <td>False</td>\n",
       "      <td>False</td>\n",
       "      <td>True</td>\n",
       "      <td>0</td>\n",
       "    </tr>\n",
       "    <tr>\n",
       "      <th>1</th>\n",
       "      <td>False</td>\n",
       "      <td>False</td>\n",
       "      <td>True</td>\n",
       "      <td>True</td>\n",
       "      <td>False</td>\n",
       "      <td>False</td>\n",
       "      <td>True</td>\n",
       "      <td>0</td>\n",
       "    </tr>\n",
       "    <tr>\n",
       "      <th>2</th>\n",
       "      <td>False</td>\n",
       "      <td>True</td>\n",
       "      <td>False</td>\n",
       "      <td>False</td>\n",
       "      <td>True</td>\n",
       "      <td>False</td>\n",
       "      <td>False</td>\n",
       "      <td>0</td>\n",
       "    </tr>\n",
       "    <tr>\n",
       "      <th>3</th>\n",
       "      <td>False</td>\n",
       "      <td>True</td>\n",
       "      <td>False</td>\n",
       "      <td>False</td>\n",
       "      <td>True</td>\n",
       "      <td>False</td>\n",
       "      <td>False</td>\n",
       "      <td>0</td>\n",
       "    </tr>\n",
       "    <tr>\n",
       "      <th>4</th>\n",
       "      <td>True</td>\n",
       "      <td>False</td>\n",
       "      <td>False</td>\n",
       "      <td>False</td>\n",
       "      <td>True</td>\n",
       "      <td>False</td>\n",
       "      <td>True</td>\n",
       "      <td>0</td>\n",
       "    </tr>\n",
       "  </tbody>\n",
       "</table>\n",
       "</div>"
      ],
      "text/plain": [
       "   Age<20  20<=Age<29  Age>=30  salary<40k  40k<=salary<80k  salary>80k  \\\n",
       "0    True       False    False        True            False       False   \n",
       "1   False       False     True        True            False       False   \n",
       "2   False        True    False       False             True       False   \n",
       "3   False        True    False       False             True       False   \n",
       "4    True       False    False       False             True       False   \n",
       "\n",
       "    Male  Purchased  \n",
       "0   True          0  \n",
       "1   True          0  \n",
       "2  False          0  \n",
       "3  False          0  \n",
       "4   True          0  "
      ]
     },
     "execution_count": 113,
     "metadata": {},
     "output_type": "execute_result"
    }
   ],
   "source": [
    "a = data['Gender']== 'Male'\n",
    "\n",
    "data = data.drop('Gender',axis=1)\n",
    "data.insert(6,'Male',a)\n",
    "data.head()\n"
   ]
  },
  {
   "cell_type": "markdown",
   "id": "4d7c23c0",
   "metadata": {},
   "source": [
    "Now that I have all Boolean attributes, I can proceed with FP-Growth algo."
   ]
  },
  {
   "cell_type": "markdown",
   "id": "8d189b44",
   "metadata": {},
   "source": [
    "### FP-Growth Algorithm"
   ]
  },
  {
   "cell_type": "markdown",
   "id": "4fb533a7",
   "metadata": {},
   "source": [
    "For the frequent pattern mining part I chose to use the FP-growth instead of the A-priori because of its efficiency and better performace than the latter. I now mine frequent patterns thanks to the library function, and set the minimum support threshold to be 0.3 and then check if it that is too high or not."
   ]
  },
  {
   "cell_type": "code",
   "execution_count": 114,
   "id": "924321dc",
   "metadata": {},
   "outputs": [
    {
     "data": {
      "text/html": [
       "<div>\n",
       "<style scoped>\n",
       "    .dataframe tbody tr th:only-of-type {\n",
       "        vertical-align: middle;\n",
       "    }\n",
       "\n",
       "    .dataframe tbody tr th {\n",
       "        vertical-align: top;\n",
       "    }\n",
       "\n",
       "    .dataframe thead th {\n",
       "        text-align: right;\n",
       "    }\n",
       "</style>\n",
       "<table border=\"1\" class=\"dataframe\">\n",
       "  <thead>\n",
       "    <tr style=\"text-align: right;\">\n",
       "      <th></th>\n",
       "      <th>support</th>\n",
       "      <th>itemsets</th>\n",
       "    </tr>\n",
       "  </thead>\n",
       "  <tbody>\n",
       "    <tr>\n",
       "      <th>0</th>\n",
       "      <td>0.4900</td>\n",
       "      <td>(Male)</td>\n",
       "    </tr>\n",
       "    <tr>\n",
       "      <th>1</th>\n",
       "      <td>0.7500</td>\n",
       "      <td>(Age&gt;=30)</td>\n",
       "    </tr>\n",
       "    <tr>\n",
       "      <th>2</th>\n",
       "      <td>0.4350</td>\n",
       "      <td>(40k&lt;=salary&lt;80k)</td>\n",
       "    </tr>\n",
       "    <tr>\n",
       "      <th>3</th>\n",
       "      <td>0.3475</td>\n",
       "      <td>(salary&gt;80k)</td>\n",
       "    </tr>\n",
       "    <tr>\n",
       "      <th>4</th>\n",
       "      <td>0.3575</td>\n",
       "      <td>(Purchased)</td>\n",
       "    </tr>\n",
       "    <tr>\n",
       "      <th>5</th>\n",
       "      <td>0.3650</td>\n",
       "      <td>(Age&gt;=30, Male)</td>\n",
       "    </tr>\n",
       "    <tr>\n",
       "      <th>6</th>\n",
       "      <td>0.3475</td>\n",
       "      <td>(Age&gt;=30, 40k&lt;=salary&lt;80k)</td>\n",
       "    </tr>\n",
       "    <tr>\n",
       "      <th>7</th>\n",
       "      <td>0.3475</td>\n",
       "      <td>(Age&gt;=30, Purchased)</td>\n",
       "    </tr>\n",
       "  </tbody>\n",
       "</table>\n",
       "</div>"
      ],
      "text/plain": [
       "   support                    itemsets\n",
       "0   0.4900                      (Male)\n",
       "1   0.7500                   (Age>=30)\n",
       "2   0.4350           (40k<=salary<80k)\n",
       "3   0.3475                (salary>80k)\n",
       "4   0.3575                 (Purchased)\n",
       "5   0.3650             (Age>=30, Male)\n",
       "6   0.3475  (Age>=30, 40k<=salary<80k)\n",
       "7   0.3475        (Age>=30, Purchased)"
      ]
     },
     "execution_count": 114,
     "metadata": {},
     "output_type": "execute_result"
    }
   ],
   "source": [
    "fpgrowth(data, min_support=0.3, use_colnames=True)"
   ]
  },
  {
   "cell_type": "markdown",
   "id": "969d985d",
   "metadata": {},
   "source": [
    "Now we can see that the pattern (Age>=30,Purchased) has been mined. In order to confirm this hypotesis, let's run a cosine similarity to verify :"
   ]
  },
  {
   "cell_type": "code",
   "execution_count": 138,
   "id": "9a6e80af",
   "metadata": {},
   "outputs": [
    {
     "data": {
      "text/plain": [
       "<AxesSubplot:xlabel='Purchased', ylabel='Age>=30'>"
      ]
     },
     "execution_count": 138,
     "metadata": {},
     "output_type": "execute_result"
    },
    {
     "data": {
      "image/png": "[encoded data removed]",
      "text/plain": [
       "<Figure size 864x576 with 2 Axes>"
      ]
     },
     "metadata": {
      "needs_background": "light"
     },
     "output_type": "display_data"
    }
   ],
   "source": [
    "contigency= pd.crosstab(data['Age>=30'], data['Purchased'],normalize='all')\n",
    "#contigency\n",
    "plt.figure(figsize=(12,8))\n",
    "sns.heatmap(contigency, annot=True, cmap=\"YlGnBu\")"
   ]
  },
  {
   "cell_type": "code",
   "execution_count": 147,
   "id": "c31940fd",
   "metadata": {},
   "outputs": [
    {
     "data": {
      "text/plain": [
       "(0.7021055030148639, 1)"
      ]
     },
     "execution_count": 147,
     "metadata": {},
     "output_type": "execute_result"
    }
   ],
   "source": [
    "c, p, dof, expected = chi2_contingency(contigency,correction=False)\n",
    "p,dof"
   ]
  },
  {
   "cell_type": "markdown",
   "id": "8c3c3dd9",
   "metadata": {},
   "source": [
    "From above, 0.70 is the p-value and 1 is the degree of freedom. As the p-value is greater than 0.05, we accept the NULL hypothesis and assume that the variables ‘Age>=30’ and ‘Purchased’ are independent of each other. Thus in conclusion, no actual frequent patterns regarding Purchases have been mined."
   ]
  }
 ],
 "metadata": {
  "kernelspec": {
   "display_name": "Python 3 (ipykernel)",
   "language": "python",
   "name": "python3"
  },
  "language_info": {
   "codemirror_mode": {
    "name": "ipython",
    "version": 3
   },
   "file_extension": ".py",
   "mimetype": "text/x-python",
   "name": "python",
   "nbconvert_exporter": "python",
   "pygments_lexer": "ipython3",
   "version": "3.9.9"
  }
 },
 "nbformat": 4,
 "nbformat_minor": 5
}
